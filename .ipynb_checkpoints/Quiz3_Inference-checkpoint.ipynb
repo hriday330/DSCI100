{
 "cells": [
  {
   "cell_type": "markdown",
   "id": "f9eced50-8333-4d76-8994-bf9cf86f4fd8",
   "metadata": {},
   "source": [
    "# Statistical Inference"
   ]
  },
  {
   "cell_type": "markdown",
   "id": "5106bfe8-4d92-43b5-9ff2-f84c40faebf6",
   "metadata": {},
   "source": [
    "To study a **population**, we are interested in computing a **population parameter** which is a numerical characteristic of the population.\n",
    "In practice, we do this by taking measurements from a (representative) **sample** and computing a **sample estimate** which approximates the population parameter. The process of using a sample to draw conclusions about the broader population is called **statistical inference**"
   ]
  },
  {
   "cell_type": "markdown",
   "id": "1d264544-c712-459a-8fe0-16a1afd9c976",
   "metadata": {},
   "source": [
    "To take (reps) number of random samples from a population data frame, use:"
   ]
  },
  {
   "cell_type": "code",
   "execution_count": null,
   "id": "8c1bb133-4677-484d-a760-23a890ce2508",
   "metadata": {},
   "outputs": [],
   "source": [
    "sample_1 <- rep_sample_n(tbl = population, size = 40)"
   ]
  },
  {
   "cell_type": "code",
   "execution_count": null,
   "id": "9cb0307a-cfdb-4f19-ae50-ff35a731a627",
   "metadata": {},
   "outputs": [],
   "source": []
  }
 ],
 "metadata": {
  "kernelspec": {
   "display_name": "R",
   "language": "R",
   "name": "ir"
  },
  "language_info": {
   "codemirror_mode": "r",
   "file_extension": ".r",
   "mimetype": "text/x-r-source",
   "name": "R",
   "pygments_lexer": "r",
   "version": "4.1.2"
  }
 },
 "nbformat": 4,
 "nbformat_minor": 5
}
