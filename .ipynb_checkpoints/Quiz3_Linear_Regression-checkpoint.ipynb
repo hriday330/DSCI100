{
 "cells": [
  {
   "cell_type": "markdown",
   "id": "c3c3d0d5-6036-4d04-abea-43c18c1ffbf9",
   "metadata": {},
   "source": [
    "## Linear Regression: \n",
    "Involves predicting a numerical response variable like in KNN Regression. The prediction is made by fitting a line of 'best-fit' through the training data and then looking up the value to predict "
   ]
  },
  {
   "cell_type": "markdown",
   "id": "e01ec8e6-ee48-4b79-9150-30162793cc0e",
   "metadata": {},
   "source": [
    "**Recipe:** takes in the prediction/response variable, followed by at least 1 predictor variable (separated by +), and then the data set to be used (usually training). "
   ]
  },
  {
   "cell_type": "code",
   "execution_count": 10,
   "id": "ec719e2f-295a-4837-a638-00079337f636",
   "metadata": {},
   "outputs": [
    {
     "ename": "ERROR",
     "evalue": "Error in recipe(price ~ sqft, data = sacramento_train): could not find function \"recipe\"\n",
     "output_type": "error",
     "traceback": [
      "Error in recipe(price ~ sqft, data = sacramento_train): could not find function \"recipe\"\nTraceback:\n"
     ]
    }
   ],
   "source": [
    "lm_recipe <-recipe(price ~ sqft, data = sacramento_train)"
   ]
  },
  {
   "cell_type": "markdown",
   "id": "a7db7c02-ec98-4c41-adc8-5b78e9efd1e8",
   "metadata": {},
   "source": [
    "**Model Specification:** Always the same for linear regression - engine = \"lm\", mode = \"regression\""
   ]
  },
  {
   "cell_type": "code",
   "execution_count": 15,
   "id": "7591db3b-e860-4365-84d6-4d0441a1eea8",
   "metadata": {},
   "outputs": [
    {
     "ename": "ERROR",
     "evalue": "Error in set_mode(set_engine(linear_reg(), \"lm\"), \"regression\"): could not find function \"set_mode\"\n",
     "output_type": "error",
     "traceback": [
      "Error in set_mode(set_engine(linear_reg(), \"lm\"), \"regression\"): could not find function \"set_mode\"\nTraceback:\n"
     ]
    }
   ],
   "source": [
    "lm_spec <- linear_reg() |>\n",
    "  set_engine(\"lm\") |>\n",
    "  set_mode(\"regression\")\n"
   ]
  },
  {
   "cell_type": "markdown",
   "id": "94da2ffe-b840-49c3-b007-51fe55e572d2",
   "metadata": {},
   "source": [
    "**Training the regression model:** Uses workflow, adding recipe, mode, then fitting to the _training data_. The testing data is only used during prediction. "
   ]
  },
  {
   "cell_type": "code",
   "execution_count": 16,
   "id": "cb0a814c-2b57-4b75-9ede-f3b362224088",
   "metadata": {},
   "outputs": [
    {
     "ename": "ERROR",
     "evalue": "Error in fit(add_model(add_recipe(workflow(), lm_recipe), lm_spec), data = sacramento_train): could not find function \"fit\"\n",
     "output_type": "error",
     "traceback": [
      "Error in fit(add_model(add_recipe(workflow(), lm_recipe), lm_spec), data = sacramento_train): could not find function \"fit\"\nTraceback:\n"
     ]
    }
   ],
   "source": [
    "lm_fit <- workflow() |>\n",
    "  add_recipe(lm_recipe) |>\n",
    "  add_model(lm_spec) |>\n",
    "  fit(data = sacramento_train)\n",
    "\n",
    "lm_fit"
   ]
  },
  {
   "cell_type": "markdown",
   "id": "f78e382f-8d3d-4f9e-840e-5568096ec372",
   "metadata": {},
   "source": [
    "Unlike in KNN regression, we do not need to scale or center as it does not affect the fit.  "
   ]
  },
  {
   "cell_type": "markdown",
   "id": "ab1bc32b-2899-4282-a9ed-1cc91c26b3d9",
   "metadata": {},
   "source": [
    "To assess the performance of the model:"
   ]
  },
  {
   "cell_type": "markdown",
   "id": "96338d80-4d54-46c7-bcef-758a81b8ec19",
   "metadata": {},
   "source": [
    "**predict:** Takes in the fit and the _testing data_. \n",
    "\n",
    "**bind_cols:** Attaches predicted values as new column with name \".pred\" to the testing data\n",
    "\n",
    "**metrics**: truth is the actual value of the response variable, estimate is the predicted value (always set to .pred)\n"
   ]
  },
  {
   "cell_type": "code",
   "execution_count": 17,
   "id": "6346bf98-d186-4f66-a9fd-2ba20c21f3d8",
   "metadata": {},
   "outputs": [
    {
     "ename": "ERROR",
     "evalue": "Error in metrics(bind_cols(predict(lm_fit, sacramento_test), sacramento_test), : could not find function \"metrics\"\n",
     "output_type": "error",
     "traceback": [
      "Error in metrics(bind_cols(predict(lm_fit, sacramento_test), sacramento_test), : could not find function \"metrics\"\nTraceback:\n"
     ]
    }
   ],
   "source": [
    "lm_test_results <- lm_fit |>\n",
    "  predict(sacramento_test) |>\n",
    "  bind_cols(sacramento_test) |>\n",
    "  metrics(truth = price, estimate = .pred)\n",
    "\n",
    "lm_test_results"
   ]
  },
  {
   "cell_type": "markdown",
   "id": "73ca87fd-36a2-446a-b2a8-3faa06be327c",
   "metadata": {},
   "source": [
    "In particular, to extract the RMSE/RMSPE as a numerical value, we use:"
   ]
  },
  {
   "cell_type": "code",
   "execution_count": 19,
   "id": "e8c075ca-37d4-4769-85a2-8364d4cf8bc8",
   "metadata": {},
   "outputs": [
    {
     "ename": "ERROR",
     "evalue": "Error in lm_test_results %>% filter(.metric == \"rmse\") %>% select(.estimate) %>% : could not find function \"%>%\"\n",
     "output_type": "error",
     "traceback": [
      "Error in lm_test_results %>% filter(.metric == \"rmse\") %>% select(.estimate) %>% : could not find function \"%>%\"\nTraceback:\n"
     ]
    }
   ],
   "source": [
    "lm_rmspe <- lm_test_results %>%\n",
    "          filter(.metric == \"rmse\") %>%\n",
    "          select(.estimate) %>%\n",
    "          pull()\n",
    "        "
   ]
  },
  {
   "cell_type": "markdown",
   "id": "98dac431-89ab-451c-a27a-83f684b983c2",
   "metadata": {},
   "source": [
    "**RMSE vs RMSPE**: RMSE is the root-mean-squared error of the model when predicting on the training set, RMSPE is the root-mean-squared _prediction_ error when predicting on the testing set."
   ]
  },
  {
   "cell_type": "markdown",
   "id": "653062ca-9d01-4090-938b-2cc6be20d444",
   "metadata": {},
   "source": [
    "**Advantages and Disadvantages of Linear Regression compared to KNN:** \n",
    "Advantages: Linear regression is much more computationally efficient, makes better predictions on data outside of the training-data range and is easily interpretable (from coefficents of regression equation)\n",
    "\n",
    "Disadvantages: Assumes that the data follows a linear model/trend"
   ]
  },
  {
   "cell_type": "markdown",
   "id": "597cc4ff-5b83-4b6e-b0df-f783542d92f6",
   "metadata": {},
   "source": [
    "**Multivariable Linear Regression**: No need to standardise of perform cross-validation (because there are no parameters). \n",
    "\n",
    "Predictions from linear regression _always_ form a flat plane, whereas with KNN-regression in multiple variables, we will get a wiggly/flexible surface"
   ]
  },
  {
   "cell_type": "markdown",
   "id": "1766bfb4-9625-480c-8ccd-f2183bf51596",
   "metadata": {},
   "source": [
    "#### Issues when performing Linear Regression: ####"
   ]
  },
  {
   "cell_type": "markdown",
   "id": "f900a7f7-c1ea-4575-b368-779b05ea6a26",
   "metadata": {},
   "source": [
    "**Outliers:** Points that do not follow the usual pattern of the rest of the data can have too much influence on the line of best fit. Typically has less of an impact if the number of outliers is very small compared to the size of the training data\n",
    "\n",
    "**Multicollinearity:** If you include multiple predictors which are strongly linearly related to each other, small changes to the data can result in large changes to the coefficents of the model. In particular, it becomes hard to distinguish which predictor is causing what effect on the response variable"
   ]
  },
  {
   "cell_type": "markdown",
   "id": "52e7cf8a-6a8e-481c-8564-66fec148ceae",
   "metadata": {},
   "source": [
    "Note: Always remember to set the seed to some value, to make the analysis reproducible"
   ]
  },
  {
   "cell_type": "markdown",
   "id": "859ba7da-6a13-4c3c-aab4-73159e9b278d",
   "metadata": {},
   "source": [
    "## Chunks of Code ##"
   ]
  },
  {
   "cell_type": "markdown",
   "id": "63230dcb-9cbb-4bf8-a411-d76790fcdb7c",
   "metadata": {},
   "source": [
    "**Splitting the dataset**"
   ]
  },
  {
   "cell_type": "code",
   "execution_count": 21,
   "id": "89271c05-ad05-4ffd-85bd-cd807c2686b5",
   "metadata": {},
   "outputs": [
    {
     "ename": "ERROR",
     "evalue": "Error in read_csv(\"filename.csv\"): could not find function \"read_csv\"\n",
     "output_type": "error",
     "traceback": [
      "Error in read_csv(\"filename.csv\"): could not find function \"read_csv\"\nTraceback:\n"
     ]
    }
   ],
   "source": [
    "marathon <- read_csv(\"filename.csv\")\n",
    "marathon_split <- initial_split(marathon, prop = 0.75, strata = time_hrs)\n",
    "marathon_training <- training(marathon_split)\n",
    "marathon_testing <- testing(marathon_split)"
   ]
  },
  {
   "cell_type": "markdown",
   "id": "3f8f48a1-34a9-432a-afa7-60957b68176b",
   "metadata": {},
   "source": [
    "**Training & Fitting the Model**"
   ]
  },
  {
   "cell_type": "code",
   "execution_count": 22,
   "id": "61f3b284-fbb5-4d22-b5db-5cc41291ceac",
   "metadata": {},
   "outputs": [
    {
     "ename": "ERROR",
     "evalue": "Error in recipe(price ~ sqft, data = sacramento_train): could not find function \"recipe\"\n",
     "output_type": "error",
     "traceback": [
      "Error in recipe(price ~ sqft, data = sacramento_train): could not find function \"recipe\"\nTraceback:\n"
     ]
    }
   ],
   "source": [
    "lm_recipe <- recipe(price ~ sqft, data = sacramento_train)\n",
    "lm_spec <- linear_reg() %>%\n",
    "  set_engine(\"lm\") %>%\n",
    "  set_mode(\"regression\")\n",
    "\n",
    "lm_fit <- workflow() %>%\n",
    "  add_recipe(lm_recipe) %>%\n",
    "  add_model(lm_spec) %>%\n",
    "  fit(data = sacramento_train)\n",
    "\n",
    "lm_fit"
   ]
  },
  {
   "cell_type": "markdown",
   "id": "0547b025-4a3f-424c-a6e5-c93ae12e89e4",
   "metadata": {},
   "source": [
    "**Testing the model on testing data**"
   ]
  },
  {
   "cell_type": "code",
   "execution_count": 26,
   "id": "dd3cb691-35c4-4246-9764-75b966a7fa41",
   "metadata": {},
   "outputs": [
    {
     "ename": "ERROR",
     "evalue": "Error in lm_fit %>% predict(sacramento_test) %>% bind_cols(sacramento_test) %>% : could not find function \"%>%\"\n",
     "output_type": "error",
     "traceback": [
      "Error in lm_fit %>% predict(sacramento_test) %>% bind_cols(sacramento_test) %>% : could not find function \"%>%\"\nTraceback:\n"
     ]
    }
   ],
   "source": [
    "lm_test_results <- lm_fit %>%\n",
    "  predict(sacramento_test) %>%\n",
    "  bind_cols(sacramento_test) %>%\n",
    "  metrics(truth = price, estimate = .pred)\n",
    "\n",
    "\n",
    "lm_rmspe <- lm_test_results %>%\n",
    "          filter(.metric == \"rmse\") %>%\n",
    "          select(.estimate) %>%\n",
    "          pull()\n",
    "\n",
    "lm_rmspe"
   ]
  },
  {
   "cell_type": "markdown",
   "id": "c8072890-2ca8-4a0b-b386-c42656fa22d7",
   "metadata": {},
   "source": [
    "**Visualising Simple Linear Regression on a graph**\n"
   ]
  },
  {
   "cell_type": "code",
   "execution_count": 27,
   "id": "1adaf7f2-843e-4f3a-bfd9-a9dc03a32a76",
   "metadata": {},
   "outputs": [
    {
     "ename": "ERROR",
     "evalue": "Error in ggplot(marathon_training, aes(x = max, y = time_hrs)): could not find function \"ggplot\"\n",
     "output_type": "error",
     "traceback": [
      "Error in ggplot(marathon_training, aes(x = max, y = time_hrs)): could not find function \"ggplot\"\nTraceback:\n"
     ]
    }
   ],
   "source": [
    "lm_predictions <- ggplot(marathon_training, aes(x = max, y = time_hrs)) + \n",
    "    geom_point() + \n",
    "    geom_smooth(method = \"lm\", se = FALSE) + \n",
    "    labs(x = \"Maximum distance ran per week during training\", y = \"Race time in hours\")+ \n",
    "    ggtitle(\"Race time vs Max distance ran per week during training\")"
   ]
  },
  {
   "cell_type": "markdown",
   "id": "bf2b41b2-592b-41ed-b3c8-a3617db72bc8",
   "metadata": {},
   "source": [
    "**Exploring the data/pairs of predictors using ggpairs**"
   ]
  },
  {
   "cell_type": "code",
   "execution_count": 28,
   "id": "36ffbb58-354d-47be-bb16-c6157b57d1d0",
   "metadata": {},
   "outputs": [
    {
     "ename": "ERROR",
     "evalue": "Error in ggpairs(training_data): could not find function \"ggpairs\"\n",
     "output_type": "error",
     "traceback": [
      "Error in ggpairs(training_data): could not find function \"ggpairs\"\nTraceback:\n"
     ]
    }
   ],
   "source": [
    "ggpairs(training_data)"
   ]
  },
  {
   "cell_type": "code",
   "execution_count": null,
   "id": "349de691-5db0-4763-9a48-2c9b798ae13e",
   "metadata": {},
   "outputs": [],
   "source": []
  }
 ],
 "metadata": {
  "kernelspec": {
   "display_name": "R",
   "language": "R",
   "name": "ir"
  },
  "language_info": {
   "codemirror_mode": "r",
   "file_extension": ".r",
   "mimetype": "text/x-r-source",
   "name": "R",
   "pygments_lexer": "r",
   "version": "4.1.2"
  }
 },
 "nbformat": 4,
 "nbformat_minor": 5
}
