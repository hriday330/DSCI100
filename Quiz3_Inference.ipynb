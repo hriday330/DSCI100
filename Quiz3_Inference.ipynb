{
 "cells": [
  {
   "cell_type": "markdown",
   "id": "f9eced50-8333-4d76-8994-bf9cf86f4fd8",
   "metadata": {},
   "source": [
    "# Statistical Inference"
   ]
  },
  {
   "cell_type": "markdown",
   "id": "5106bfe8-4d92-43b5-9ff2-f84c40faebf6",
   "metadata": {},
   "source": [
    "To study a **population**, we are interested in computing a **population parameter** which is a numerical characteristic of the population.\n",
    "In practice, we do this by taking measurements from a (representative) **sample** and computing a **sample estimate** which approximates the population parameter. The process of using a sample to draw conclusions about the broader population is called **statistical inference**"
   ]
  },
  {
   "cell_type": "markdown",
   "id": "1d264544-c712-459a-8fe0-16a1afd9c976",
   "metadata": {},
   "source": [
    "To take (reps) number of random samples from a population data frame, use:"
   ]
  },
  {
   "cell_type": "code",
   "execution_count": null,
   "id": "8c1bb133-4677-484d-a760-23a890ce2508",
   "metadata": {},
   "outputs": [],
   "source": [
    "sample_1 <- rep_sample_n(tbl = population, size = 40, reps = 20)"
   ]
  },
  {
   "cell_type": "markdown",
   "id": "b2b4db2d-8da2-4b8f-81fb-9ef50260f105",
   "metadata": {},
   "source": [
    "Estimates may vary between samples due to **sampling variability.**. To visualise how much the sample variability is for a particular population, we take many sample proportions to get many sample estimates and plot these on a histogram, creating a **sampling distribution**. "
   ]
  },
  {
   "cell_type": "code",
   "execution_count": null,
   "id": "146d881c-e911-4676-bdb8-066325bad6e2",
   "metadata": {},
   "outputs": [],
   "source": [
    "sample_estimates <- samples |>\n",
    "  group_by(replicate) |>\n",
    "  summarize(sample_proportion = sum(room_type == \"Entire home/apt\") / 40)\n",
    "##new column is made to calculate proportion/whatever sample estimate we want"
   ]
  },
  {
   "cell_type": "markdown",
   "id": "50d48260-b1a0-44c1-a16c-f08fa5690694",
   "metadata": {},
   "source": [
    "The shape of the sampling distribution is usually a bell-curve with a peak centered at the population mean/proportion. As the sample size increases, the spread of the sampling distribution decreases (approaches the population mean) "
   ]
  },
  {
   "cell_type": "markdown",
   "id": "75d513b3-0c15-4586-94da-1455cd8dfcb4",
   "metadata": {},
   "source": [
    "### Bootstrapping:\n",
    "In practice, we cannot construct an exact sampling distribution because we don't usually have full access to the population data. "
   ]
  },
  {
   "cell_type": "markdown",
   "id": "d5d6796a-53fa-4159-88aa-08affc140dfe",
   "metadata": {},
   "source": [
    "**Creating a bootstrap distribution:** To create a bootstrap distribution from a single sample of size n using R: \n",
    "1) Randomly select observation from original sample\n",
    "2) Record the value of the observation \n",
    "3) Replace that observation\n",
    "4) Repeat 1)-3) to get n observations which form a **bootstrap sample**\n",
    "5) Calculate the **bootstrap point estimate** of the n observations in the bootstrap sample\n",
    "6) Repeat 1)-5) to create a distribution of point estimates, known as the **bootstrap distribution**.\n",
    "7) Calculate the confidence interval for the observed point estimate"
   ]
  },
  {
   "cell_type": "markdown",
   "id": "75317259-ac0a-4344-a89f-aaabfdfe8179",
   "metadata": {},
   "source": [
    "We can use the bootstrap distribution to calculate an approximate 95% percentile bootstrap **confidence interval**, which is a range of plausible values of the population parameter. This means that about 95% of the confidence intervals of 100 random samples would contain the population parameter's true value"
   ]
  },
  {
   "cell_type": "markdown",
   "id": "2e8f4d4c-8313-47c3-a003-52c2459b3d6e",
   "metadata": {},
   "source": [
    "The bootstrap distribution is expected to somewhat resemble the actual sampling distribution, and the shape and spread of the bootstrap distribution is a good approximation to that of the sampling distribution"
   ]
  },
  {
   "cell_type": "markdown",
   "id": "86c253fe-bc89-4f91-aa01-4712041d125a",
   "metadata": {},
   "source": [
    "## Chunks of Code"
   ]
  },
  {
   "cell_type": "markdown",
   "id": "9c535b7f-22b6-4f7d-91be-1d5a82854dc1",
   "metadata": {},
   "source": [
    "**Creating a population distribution:**"
   ]
  },
  {
   "cell_type": "code",
   "execution_count": null,
   "id": "0cdd61bf-c2ae-4c8a-900d-69936cc177e3",
   "metadata": {},
   "outputs": [],
   "source": [
    "options(repr.plot.width = 8, repr.plot.height = 7)\n",
    "pop_dist <- ggplot(can_seniors, aes(age)) + \n",
    "    geom_histogram(binwidth = 1) +\n",
    "    xlab(\"Age (years)\") +\n",
    "    ggtitle(\"Population distribution\") +\n",
    "    theme(text = element_text(size = 20), plot.margin = margin(10, 100)) # last x value was getting cut off\n",
    "pop_dist"
   ]
  },
  {
   "cell_type": "markdown",
   "id": "c79cb571-4a8d-4e85-a723-da8a4dc939cd",
   "metadata": {},
   "source": [
    "**Drawing a sample from the population:**"
   ]
  },
  {
   "cell_type": "code",
   "execution_count": null,
   "id": "c2def69f-5cd8-4797-8e74-7c33dece2426",
   "metadata": {},
   "outputs": [],
   "source": [
    "one_sample <- can_seniors %>% \n",
    "    rep_sample_n(40) %>% \n",
    "    ungroup() %>% # ungroup the data frame \n",
    "    select(age) # drop the replicate column "
   ]
  },
  {
   "cell_type": "markdown",
   "id": "4414eaed-6e4f-45c5-a97e-684cb526ec9d",
   "metadata": {},
   "source": [
    "**Drawing n bootstrap samples:**"
   ]
  },
  {
   "cell_type": "code",
   "execution_count": null,
   "id": "fc8cea3c-eb2d-4678-8c8d-e7fcfe054e8b",
   "metadata": {},
   "outputs": [],
   "source": [
    "boot1000<- one_sample %>%\n",
    "    rep_sample_n(size = 40, replace = TRUE, reps = 1000)"
   ]
  },
  {
   "cell_type": "markdown",
   "id": "bcb40306-a0f9-4a24-81be-eeab9b0b45db",
   "metadata": {},
   "source": [
    "**Calculating the mean of the n bootstrap sample:**"
   ]
  },
  {
   "cell_type": "code",
   "execution_count": null,
   "id": "467c1aae-642f-4009-80b9-badeac271f55",
   "metadata": {},
   "outputs": [],
   "source": [
    "boot1000_means <- boot1000 %>%\n",
    "    group_by(replicate) %>%\n",
    "    summarize(mean = mean(age))"
   ]
  },
  {
   "cell_type": "markdown",
   "id": "a74b39d3-18b2-4ffe-957e-63f3603b298e",
   "metadata": {},
   "source": [
    "**Visualising the bootstrap distribution:**"
   ]
  },
  {
   "cell_type": "code",
   "execution_count": null,
   "id": "29f97e52-96c9-46c7-9d43-1f3d3a882e5c",
   "metadata": {},
   "outputs": [],
   "source": [
    "boot_est_dist <- boot1000_means %>%\n",
    "    ggplot(aes(x = mean)) + \n",
    "        geom_histogram(binwidth = 1) + \n",
    "        xlab(\"Average/mean age (years)\") + \n",
    "        ggtitle(\"Bootstrap sample point estimate distribution\")"
   ]
  },
  {
   "cell_type": "markdown",
   "id": "d8db7587-6c8c-45b4-9225-0c27022613c7",
   "metadata": {},
   "source": [
    "**Calculating a 95% confidence interval for the point estimates:**"
   ]
  },
  {
   "cell_type": "markdown",
   "id": "7208d318-6735-49fd-933b-8c3f81a50605",
   "metadata": {},
   "source": [
    "Note that the the actual population parameter may not always fall within the lower and upper bounds of the confidence interval. "
   ]
  },
  {
   "cell_type": "code",
   "execution_count": null,
   "id": "5be49194-6ff5-4fad-96fc-8913e8b4e750",
   "metadata": {},
   "outputs": [],
   "source": []
  }
 ],
 "metadata": {
  "kernelspec": {
   "display_name": "R",
   "language": "R",
   "name": "ir"
  },
  "language_info": {
   "codemirror_mode": "r",
   "file_extension": ".r",
   "mimetype": "text/x-r-source",
   "name": "R",
   "pygments_lexer": "r",
   "version": "4.1.2"
  }
 },
 "nbformat": 4,
 "nbformat_minor": 5
}
