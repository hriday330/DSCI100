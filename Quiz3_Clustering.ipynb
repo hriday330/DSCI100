{
 "cells": [
  {
   "cell_type": "markdown",
   "id": "040f57ec-fb76-4b67-82b0-efd165313173",
   "metadata": {},
   "source": [
    "# Clustering "
   ]
  },
  {
   "cell_type": "markdown",
   "id": "81e28817-7adc-45a4-ad9e-ccfd5a44863c",
   "metadata": {},
   "source": [
    "**Clustering** is an unsupervised learning task (no response variable labels or values) where we are trying to find groups in the data "
   ]
  },
  {
   "cell_type": "markdown",
   "id": "045e9436-7d88-47e7-98fa-4abc19b1e5cc",
   "metadata": {},
   "source": [
    "**WSSD: Within-cluster Sum of Squared Distances**. Lower WSSD means better clustering (clusters are tightly packed together)"
   ]
  },
  {
   "cell_type": "markdown",
   "id": "e2ba2326-67ac-4938-9404-6c831ee7feeb",
   "metadata": {},
   "source": [
    "**K Means Algorithm:** Groups the unlabelled data into k clusters via the following step:\n",
    "1) Random initialisation of clusters\n",
    "2) **Center update**: Compute the center of each cluster.\n",
    "3) **Label update**: Reassign each data point to the cluster with the nearest center.\n",
    "4) Repeat 2) and 3) until no clusters change /no label assignments change"
   ]
  },
  {
   "cell_type": "markdown",
   "id": "fb652e3c-e5c0-487b-a23f-68ae35ac2cb6",
   "metadata": {},
   "source": [
    "Generally, we use a set number of random restarts (nstart argument). Sometime, on a particular initialisation, the k-means algorithm gets stuck in a bad solution. By using a few restarts, we can just simply repeat the algorithm with a different initialisation and pick the best clustering (if one exists). "
   ]
  },
  {
   "cell_type": "markdown",
   "id": "b354ac15-507e-4209-9df1-63939748b506",
   "metadata": {},
   "source": [
    "**Choosing K:** Choose K at the elbow on an elbow plot (total WSSD vs K). K smaller than this would result in too few clusters, so groups are not visible in the data. Conversely, if K is too large, then there are too many subgroups which means important patterns or clusters are not visible. \n"
   ]
  },
  {
   "cell_type": "markdown",
   "id": "641b2766-b0a2-413c-ad36-24a91df0089b",
   "metadata": {},
   "source": [
    "**Standardising the data for K-Means** Variables with a large scale will have a much larger effect on deciding cluster assignment than variables with a small scale. This is because K-Means uses euclidean distance to compute the distance between a point and the center of a cluster. "
   ]
  },
  {
   "cell_type": "code",
   "execution_count": 2,
   "id": "e0f016cf-53a6-4d3a-9c9c-43d75dc6991e",
   "metadata": {},
   "outputs": [
    {
     "ename": "ERROR",
     "evalue": "Error in mutate(not_standardized_data, across(everything(), scale)): could not find function \"mutate\"\n",
     "output_type": "error",
     "traceback": [
      "Error in mutate(not_standardized_data, across(everything(), scale)): could not find function \"mutate\"\nTraceback:\n"
     ]
    }
   ],
   "source": [
    "standardized_data <- not_standardized_data %>%\n",
    "  mutate(across(everything(), scale))\n",
    "\n",
    "standardized_data"
   ]
  },
  {
   "cell_type": "markdown",
   "id": "a438bd60-dcea-4790-b038-f0a02e64421a",
   "metadata": {},
   "source": [
    "One disadvantage of not being able to visualise the clusters with multidimensional data is it is harder, or even not possible, to assign human-readable labels to the clusters based on their relative positions on the respectives variable axes. We would require further data processing to get the approximate range of values in each cluster and assign such labels."
   ]
  },
  {
   "cell_type": "markdown",
   "id": "5fee106b-fbea-4a4c-b39c-7241ffe5fae4",
   "metadata": {},
   "source": [
    "## Chunks of code"
   ]
  },
  {
   "cell_type": "markdown",
   "id": "213433f2-3f9d-4a1d-bb86-451d87fdfd10",
   "metadata": {},
   "source": [
    "**Creating the elbow stats data frame:**"
   ]
  },
  {
   "cell_type": "code",
   "execution_count": 5,
   "id": "f1210416-83d0-4e67-8753-cacb822f4d9a",
   "metadata": {},
   "outputs": [
    {
     "ename": "ERROR",
     "evalue": "Error in tibble(k = seq(1, 10)): could not find function \"tibble\"\n",
     "output_type": "error",
     "traceback": [
      "Error in tibble(k = seq(1, 10)): could not find function \"tibble\"\nTraceback:\n"
     ]
    }
   ],
   "source": [
    "k_vals <- tibble(k = seq(1,10))\n",
    "scaled_km_clustered <- k_vals %>%\n",
    "    rowwise() %>%\n",
    "    mutate(poke_clusts = list(kmeans(scaled_km_data, nstart = 10, k)))\n",
    "\n",
    "scaled_km_glanced <- scaled_km_clustered %>%\n",
    "    mutate(glanced = list(glance(poke_clusts)))\n",
    "\n",
    "elbow_stats<- scaled_km_glanced %>%\n",
    "    unnest(glanced) %>%\n",
    "    select(-poke_clusts)\n",
    "\n",
    "print(elbow_stats)\n"
   ]
  },
  {
   "cell_type": "markdown",
   "id": "b065f307-dbc3-4226-9122-75c90da936d7",
   "metadata": {},
   "source": [
    "**Creating the Elbow plot:** Once the plot is done, we choose the k value at the elbow."
   ]
  },
  {
   "cell_type": "code",
   "execution_count": 7,
   "id": "71d8f427-bf50-46b7-9612-ead3b6de4ede",
   "metadata": {},
   "outputs": [
    {
     "ename": "ERROR",
     "evalue": "Error in elbow_stats %>% ggplot(aes(x = k, y = tot.withinss)): could not find function \"%>%\"\n",
     "output_type": "error",
     "traceback": [
      "Error in elbow_stats %>% ggplot(aes(x = k, y = tot.withinss)): could not find function \"%>%\"\nTraceback:\n"
     ]
    }
   ],
   "source": [
    "elbow_plot <- elbow_stats %>%\n",
    "    ggplot(aes(x = k, y = tot.withinss)) +\n",
    "        geom_point() + \n",
    "        geom_line() +\n",
    "        xlab(\"Number of clusters\") + \n",
    "        ylab(\"Within-cluster sum of squares\") + \n",
    "        ggtitle(\"Elbow Plot\")\n",
    "elbow_plot"
   ]
  },
  {
   "cell_type": "markdown",
   "id": "2c2f6ff9-68b4-4288-b648-10ac6038d04f",
   "metadata": {},
   "source": [
    "**Performing K-means on the scaled data with the optimal k:**"
   ]
  },
  {
   "cell_type": "code",
   "execution_count": 9,
   "id": "71db3c74-ca68-40ce-8256-7ed6c3f3b92e",
   "metadata": {},
   "outputs": [
    {
     "ename": "ERROR",
     "evalue": "Error in as.matrix(x): object 'scaled_km_data' not found\n",
     "output_type": "error",
     "traceback": [
      "Error in as.matrix(x): object 'scaled_km_data' not found\nTraceback:\n",
      "1. kmeans(scaled_km_data, centers = 3)",
      "2. as.matrix(x)"
     ]
    }
   ],
   "source": [
    "pokemon_final_kmeans <- kmeans(scaled_km_data, centers = 3)\n",
    "df <- augment(pokemon_final_kmeans, scaled_km_data)\n",
    "pokemon_final_clusters_plot <- ggplot(df, aes(x = Speed, y = Defense, colour = .cluster))+\n",
    "        geom_point() + \n",
    "        labs(x = \"Speed points\", y = \"Defensive Strength\", colour = \"Cluster\")\n",
    "                                \n",
    "pokemon_final_clusters_plot"
   ]
  },
  {
   "cell_type": "code",
   "execution_count": null,
   "id": "71baa30a-7639-4ccf-b04b-9a3b04af7f57",
   "metadata": {},
   "outputs": [],
   "source": []
  }
 ],
 "metadata": {
  "kernelspec": {
   "display_name": "R",
   "language": "R",
   "name": "ir"
  },
  "language_info": {
   "codemirror_mode": "r",
   "file_extension": ".r",
   "mimetype": "text/x-r-source",
   "name": "R",
   "pygments_lexer": "r",
   "version": "4.1.2"
  }
 },
 "nbformat": 4,
 "nbformat_minor": 5
}
